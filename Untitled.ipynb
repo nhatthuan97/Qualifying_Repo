{
 "cells": [
  {
   "cell_type": "markdown",
   "id": "de3a8cc6",
   "metadata": {},
   "source": [
    "# Genetic Algorithm\n",
    "- Compute solution for optimization\n",
    "- Inspired by biology \n",
    "- Needs: \n",
    "    - Really clear cut objective\n",
    "- Concept:\n",
    "    - population\n",
    "    - evaluation\n",
    "    \n",
    "    - Selection --> Crossover  --> Mutation\n",
    "    "
   ]
  }
 ],
 "metadata": {
  "kernelspec": {
   "display_name": "Python 3 (ipykernel)",
   "language": "python",
   "name": "python3"
  },
  "language_info": {
   "codemirror_mode": {
    "name": "ipython",
    "version": 3
   },
   "file_extension": ".py",
   "mimetype": "text/x-python",
   "name": "python",
   "nbconvert_exporter": "python",
   "pygments_lexer": "ipython3",
   "version": "3.10.9"
  }
 },
 "nbformat": 4,
 "nbformat_minor": 5
}
