{
 "cells": [
  {
   "cell_type": "code",
   "execution_count": 1,
   "id": "e66416af",
   "metadata": {},
   "outputs": [],
   "source": [
    "#Gradient Boosted Tree classifier - Takes longest in the previous test"
   ]
  },
  {
   "cell_type": "code",
   "execution_count": 2,
   "id": "55ff8ec1",
   "metadata": {},
   "outputs": [],
   "source": [
    "import timeit\n",
    "import pandas as pd\n",
    "import warnings\n",
    "from sklearn.model_selection import train_test_split\n",
    "from sklearn.ensemble import GradientBoostingClassifier\n",
    "\n",
    "warnings.filterwarnings('ignore')"
   ]
  },
  {
   "cell_type": "code",
   "execution_count": 3,
   "id": "d3613b76",
   "metadata": {},
   "outputs": [],
   "source": [
    "import os\n",
    "def doublefile():\n",
    "    file1=open('testingDup.csv','r')\n",
    "    file2=open('testingNew.csv','w')\n",
    "    count=0\n",
    "    for line in file1:\n",
    "        if count==0:\n",
    "            file2.write(line)\n",
    "            count=2\n",
    "        else:\n",
    "            file2.write(line)\n",
    "            file2.write(line)\n",
    "    file1.close()\n",
    "    file2.close()\n",
    "    os.remove('testingDup.csv')\n",
    "    os.rename('testingNew.csv','testingDup.csv')"
   ]
  },
  {
   "cell_type": "code",
   "execution_count": 4,
   "id": "76ed0514",
   "metadata": {},
   "outputs": [],
   "source": [
    "def first_dup_file():\n",
    "    os.system('rm testingDup.csv')\n",
    "    os.system('cp ADASYN.csv testingDup.csv')"
   ]
  },
  {
   "cell_type": "code",
   "execution_count": 5,
   "id": "9e6fefd2",
   "metadata": {},
   "outputs": [],
   "source": [
    "def GB_SK_time():\n",
    "    start_time=timeit.default_timer()\n",
    "    df_pandas=pd.read_csv('testingDup.csv')\n",
    "    X_train, X_test, y_train, y_test = train_test_split(df_pandas[df_pandas.columns.values[:-1]], df_pandas[['Biopsy']], random_state=42, test_size=0.1)\n",
    "    clf = GradientBoostingClassifier(n_estimators=100, learning_rate=1.0,max_depth=1, random_state=0).fit(X_train, y_train)\n",
    "    elapsed = timeit.default_timer() - start_time\n",
    "    return (elapsed)"
   ]
  },
  {
   "cell_type": "code",
   "execution_count": 6,
   "id": "f6a4f58d",
   "metadata": {},
   "outputs": [
    {
     "name": "stderr",
     "output_type": "stream",
     "text": [
      "23/06/28 10:00:10 WARN Utils: Your hostname, Thuans-MacBook-Pro.local resolves to a loopback address: 127.0.0.1; using 10.0.0.14 instead (on interface en0)\n",
      "23/06/28 10:00:10 WARN Utils: Set SPARK_LOCAL_IP if you need to bind to another address\n",
      "Setting default log level to \"WARN\".\n",
      "To adjust logging level use sc.setLogLevel(newLevel). For SparkR, use setLogLevel(newLevel).\n",
      "23/06/28 10:00:10 WARN NativeCodeLoader: Unable to load native-hadoop library for your platform... using builtin-java classes where applicable\n",
      "23/06/28 10:00:10 WARN Utils: Service 'SparkUI' could not bind on port 4040. Attempting port 4041.\n",
      "23/06/28 10:00:10 WARN Utils: Service 'SparkUI' could not bind on port 4041. Attempting port 4042.\n"
     ]
    }
   ],
   "source": [
    "import findspark\n",
    "findspark.init()\n",
    "findspark.find()\n",
    "\n",
    "from pyspark.sql import SparkSession\n",
    "from pyspark.conf import SparkConf\n",
    "conf = SparkConf().setAppName(\"MyApp\")\n",
    "\n",
    "\n",
    "spark = SparkSession.builder.config(conf=conf).getOrCreate()\n"
   ]
  },
  {
   "cell_type": "code",
   "execution_count": 7,
   "id": "ad4c7171",
   "metadata": {},
   "outputs": [],
   "source": [
    "from pyspark.ml.linalg import Vectors\n",
    "from pyspark.ml.feature import VectorAssembler\n",
    "from pyspark.ml.classification import GBTClassifier \n"
   ]
  },
  {
   "cell_type": "code",
   "execution_count": 8,
   "id": "40f0c75b",
   "metadata": {},
   "outputs": [],
   "source": [
    "def GB_spark_time():\n",
    "    start_time=timeit.default_timer()\n",
    "    df_spark=spark.read.options(header='True',inferSchema='True').csv(\"testingDup.csv\")\n",
    "    Assembler=VectorAssembler(inputCols=df_spark.columns[:-1],outputCol='features')\n",
    "    df_spark=Assembler.transform(df_spark)\n",
    "    \n",
    "    df_train_test=df_spark.select('features','Biopsy')\n",
    "    gbt = GBTClassifier(featuresCol=\"features\", labelCol=\"Biopsy\", maxIter=10)\n",
    "    gbt.fit(df_train_test)\n",
    "    \n",
    "    elapsed = timeit.default_timer() - start_time\n",
    "    return (elapsed)\n"
   ]
  },
  {
   "cell_type": "code",
   "execution_count": 9,
   "id": "0e4316b4",
   "metadata": {},
   "outputs": [
    {
     "name": "stdout",
     "output_type": "stream",
     "text": [
      "0\n",
      "1\n",
      "2\n",
      "3\n",
      "4\n"
     ]
    },
    {
     "name": "stderr",
     "output_type": "stream",
     "text": [
      "23/06/28 10:00:23 WARN GarbageCollectionMetrics: To enable non-built-in garbage collector(s) List(G1 Concurrent GC), users should configure it(them) to spark.eventLog.gcMetrics.youngGenerationGarbageCollectors or spark.eventLog.gcMetrics.oldGenerationGarbageCollectors\n"
     ]
    },
    {
     "name": "stdout",
     "output_type": "stream",
     "text": [
      "5\n",
      "6\n",
      "7\n",
      "8\n"
     ]
    },
    {
     "name": "stderr",
     "output_type": "stream",
     "text": [
      "                                                                                \r"
     ]
    },
    {
     "name": "stdout",
     "output_type": "stream",
     "text": [
      "9\n"
     ]
    },
    {
     "name": "stderr",
     "output_type": "stream",
     "text": [
      "                                                                                \r"
     ]
    }
   ],
   "source": [
    "performance_df=pd.DataFrame(columns=['Platform','Size','ExecutionTime'])\n",
    "first_dup_file()\n",
    "for itt in range(10):\n",
    "    print(itt)\n",
    "    performance_df.loc[len(performance_df.index)] = ['Sk',itt+1,GB_SK_time()]\n",
    "    performance_df.loc[len(performance_df.index)] = ['Spark',itt+1,GB_spark_time()]\n",
    "    doublefile()\n",
    "\n"
   ]
  },
  {
   "cell_type": "code",
   "execution_count": 10,
   "id": "752926e9",
   "metadata": {},
   "outputs": [
    {
     "data": {
      "text/plain": [
       "[1, 2, 3, 4, 5, 6, 7, 8, 9, 10]"
      ]
     },
     "execution_count": 10,
     "metadata": {},
     "output_type": "execute_result"
    }
   ],
   "source": [
    "list(performance_df[performance_df['Platform']=='Sk']['Size'])"
   ]
  },
  {
   "cell_type": "code",
   "execution_count": 11,
   "id": "4f5c5597",
   "metadata": {},
   "outputs": [
    {
     "data": {
      "text/html": [
       "<div>\n",
       "<style scoped>\n",
       "    .dataframe tbody tr th:only-of-type {\n",
       "        vertical-align: middle;\n",
       "    }\n",
       "\n",
       "    .dataframe tbody tr th {\n",
       "        vertical-align: top;\n",
       "    }\n",
       "\n",
       "    .dataframe thead th {\n",
       "        text-align: right;\n",
       "    }\n",
       "</style>\n",
       "<table border=\"1\" class=\"dataframe\">\n",
       "  <thead>\n",
       "    <tr style=\"text-align: right;\">\n",
       "      <th></th>\n",
       "      <th>Platform</th>\n",
       "      <th>Size</th>\n",
       "      <th>ExecutionTime</th>\n",
       "    </tr>\n",
       "  </thead>\n",
       "  <tbody>\n",
       "    <tr>\n",
       "      <th>0</th>\n",
       "      <td>Sk</td>\n",
       "      <td>1</td>\n",
       "      <td>0.110263</td>\n",
       "    </tr>\n",
       "    <tr>\n",
       "      <th>1</th>\n",
       "      <td>Spark</td>\n",
       "      <td>1</td>\n",
       "      <td>5.197456</td>\n",
       "    </tr>\n",
       "    <tr>\n",
       "      <th>2</th>\n",
       "      <td>Sk</td>\n",
       "      <td>2</td>\n",
       "      <td>0.126359</td>\n",
       "    </tr>\n",
       "    <tr>\n",
       "      <th>3</th>\n",
       "      <td>Spark</td>\n",
       "      <td>2</td>\n",
       "      <td>1.664117</td>\n",
       "    </tr>\n",
       "    <tr>\n",
       "      <th>4</th>\n",
       "      <td>Sk</td>\n",
       "      <td>3</td>\n",
       "      <td>0.217357</td>\n",
       "    </tr>\n",
       "    <tr>\n",
       "      <th>5</th>\n",
       "      <td>Spark</td>\n",
       "      <td>3</td>\n",
       "      <td>1.639954</td>\n",
       "    </tr>\n",
       "    <tr>\n",
       "      <th>6</th>\n",
       "      <td>Sk</td>\n",
       "      <td>4</td>\n",
       "      <td>0.378548</td>\n",
       "    </tr>\n",
       "    <tr>\n",
       "      <th>7</th>\n",
       "      <td>Spark</td>\n",
       "      <td>4</td>\n",
       "      <td>1.661266</td>\n",
       "    </tr>\n",
       "    <tr>\n",
       "      <th>8</th>\n",
       "      <td>Sk</td>\n",
       "      <td>5</td>\n",
       "      <td>0.700354</td>\n",
       "    </tr>\n",
       "    <tr>\n",
       "      <th>9</th>\n",
       "      <td>Spark</td>\n",
       "      <td>5</td>\n",
       "      <td>1.991977</td>\n",
       "    </tr>\n",
       "    <tr>\n",
       "      <th>10</th>\n",
       "      <td>Sk</td>\n",
       "      <td>6</td>\n",
       "      <td>1.388288</td>\n",
       "    </tr>\n",
       "    <tr>\n",
       "      <th>11</th>\n",
       "      <td>Spark</td>\n",
       "      <td>6</td>\n",
       "      <td>2.140520</td>\n",
       "    </tr>\n",
       "    <tr>\n",
       "      <th>12</th>\n",
       "      <td>Sk</td>\n",
       "      <td>7</td>\n",
       "      <td>2.694753</td>\n",
       "    </tr>\n",
       "    <tr>\n",
       "      <th>13</th>\n",
       "      <td>Spark</td>\n",
       "      <td>7</td>\n",
       "      <td>2.308474</td>\n",
       "    </tr>\n",
       "    <tr>\n",
       "      <th>14</th>\n",
       "      <td>Sk</td>\n",
       "      <td>8</td>\n",
       "      <td>5.468835</td>\n",
       "    </tr>\n",
       "    <tr>\n",
       "      <th>15</th>\n",
       "      <td>Spark</td>\n",
       "      <td>8</td>\n",
       "      <td>3.224648</td>\n",
       "    </tr>\n",
       "    <tr>\n",
       "      <th>16</th>\n",
       "      <td>Sk</td>\n",
       "      <td>9</td>\n",
       "      <td>11.219578</td>\n",
       "    </tr>\n",
       "    <tr>\n",
       "      <th>17</th>\n",
       "      <td>Spark</td>\n",
       "      <td>9</td>\n",
       "      <td>5.624002</td>\n",
       "    </tr>\n",
       "    <tr>\n",
       "      <th>18</th>\n",
       "      <td>Sk</td>\n",
       "      <td>10</td>\n",
       "      <td>23.706132</td>\n",
       "    </tr>\n",
       "    <tr>\n",
       "      <th>19</th>\n",
       "      <td>Spark</td>\n",
       "      <td>10</td>\n",
       "      <td>7.079738</td>\n",
       "    </tr>\n",
       "  </tbody>\n",
       "</table>\n",
       "</div>"
      ],
      "text/plain": [
       "   Platform  Size  ExecutionTime\n",
       "0        Sk     1       0.110263\n",
       "1     Spark     1       5.197456\n",
       "2        Sk     2       0.126359\n",
       "3     Spark     2       1.664117\n",
       "4        Sk     3       0.217357\n",
       "5     Spark     3       1.639954\n",
       "6        Sk     4       0.378548\n",
       "7     Spark     4       1.661266\n",
       "8        Sk     5       0.700354\n",
       "9     Spark     5       1.991977\n",
       "10       Sk     6       1.388288\n",
       "11    Spark     6       2.140520\n",
       "12       Sk     7       2.694753\n",
       "13    Spark     7       2.308474\n",
       "14       Sk     8       5.468835\n",
       "15    Spark     8       3.224648\n",
       "16       Sk     9      11.219578\n",
       "17    Spark     9       5.624002\n",
       "18       Sk    10      23.706132\n",
       "19    Spark    10       7.079738"
      ]
     },
     "execution_count": 11,
     "metadata": {},
     "output_type": "execute_result"
    }
   ],
   "source": [
    "performance_df"
   ]
  },
  {
   "cell_type": "code",
   "execution_count": 12,
   "id": "565f5837",
   "metadata": {},
   "outputs": [
    {
     "name": "stderr",
     "output_type": "stream",
     "text": [
      "No artists with labels found to put in legend.  Note that artists whose label start with an underscore are ignored when legend() is called with no argument.\n"
     ]
    },
    {
     "data": {
      "image/png": "[encoded data removed]",
      "text/plain": [
       "<Figure size 640x480 with 1 Axes>"
      ]
     },
     "metadata": {},
     "output_type": "display_data"
    }
   ],
   "source": [
    "import matplotlib.pyplot as plt\n",
    "\n",
    "#plt.rc('legend', fontsize=12)    # legend fontsize\n",
    "plt.plot(list(performance_df[performance_df['Platform']=='Sk']['Size']),\n",
    "       list(performance_df[performance_df['Platform']=='Sk']['ExecutionTime']),linewidth=3)\n",
    "plt.plot(list(performance_df[performance_df['Platform']=='Spark']['Size']),\n",
    "       list(performance_df[performance_df['Platform']=='Spark']['ExecutionTime']),linewidth=3)\n",
    "plt.legend()\n",
    "plt.xlabel('File size * 2^n',fontsize=15)\n",
    "plt.ylabel('Execution Time (s)',fontsize=15)\n",
    "plt.legend([\"Sk\", \"Spark\"], prop = { \"size\": 15 }, loc =\"upper left\")\n",
    "plt.rcParams['font.size'] = 15\n",
    "\n",
    "plt.show()"
   ]
  },
  {
   "cell_type": "code",
   "execution_count": null,
   "id": "18a3bced",
   "metadata": {},
   "outputs": [],
   "source": []
  },
  {
   "cell_type": "code",
   "execution_count": 62,
   "id": "ad3fb8bf",
   "metadata": {
    "scrolled": true
   },
   "outputs": [],
   "source": [
    "new_df=performance_df[performance_df['Platform']=='Sk'][['Size','ExecutionTime']]"
   ]
  },
  {
   "cell_type": "code",
   "execution_count": 63,
   "id": "0161d78f",
   "metadata": {},
   "outputs": [],
   "source": [
    "new_df=new_df.rename(columns={'ExecutionTime':'SkLearn'})"
   ]
  },
  {
   "cell_type": "code",
   "execution_count": 64,
   "id": "a8534fb8",
   "metadata": {},
   "outputs": [
    {
     "data": {
      "text/html": [
       "<div>\n",
       "<style scoped>\n",
       "    .dataframe tbody tr th:only-of-type {\n",
       "        vertical-align: middle;\n",
       "    }\n",
       "\n",
       "    .dataframe tbody tr th {\n",
       "        vertical-align: top;\n",
       "    }\n",
       "\n",
       "    .dataframe thead th {\n",
       "        text-align: right;\n",
       "    }\n",
       "</style>\n",
       "<table border=\"1\" class=\"dataframe\">\n",
       "  <thead>\n",
       "    <tr style=\"text-align: right;\">\n",
       "      <th></th>\n",
       "      <th>Size</th>\n",
       "      <th>SkLearn</th>\n",
       "    </tr>\n",
       "  </thead>\n",
       "  <tbody>\n",
       "    <tr>\n",
       "      <th>0</th>\n",
       "      <td>1</td>\n",
       "      <td>0.110263</td>\n",
       "    </tr>\n",
       "    <tr>\n",
       "      <th>2</th>\n",
       "      <td>2</td>\n",
       "      <td>0.126359</td>\n",
       "    </tr>\n",
       "    <tr>\n",
       "      <th>4</th>\n",
       "      <td>3</td>\n",
       "      <td>0.217357</td>\n",
       "    </tr>\n",
       "    <tr>\n",
       "      <th>6</th>\n",
       "      <td>4</td>\n",
       "      <td>0.378548</td>\n",
       "    </tr>\n",
       "    <tr>\n",
       "      <th>8</th>\n",
       "      <td>5</td>\n",
       "      <td>0.700354</td>\n",
       "    </tr>\n",
       "    <tr>\n",
       "      <th>10</th>\n",
       "      <td>6</td>\n",
       "      <td>1.388288</td>\n",
       "    </tr>\n",
       "    <tr>\n",
       "      <th>12</th>\n",
       "      <td>7</td>\n",
       "      <td>2.694753</td>\n",
       "    </tr>\n",
       "    <tr>\n",
       "      <th>14</th>\n",
       "      <td>8</td>\n",
       "      <td>5.468835</td>\n",
       "    </tr>\n",
       "    <tr>\n",
       "      <th>16</th>\n",
       "      <td>9</td>\n",
       "      <td>11.219578</td>\n",
       "    </tr>\n",
       "    <tr>\n",
       "      <th>18</th>\n",
       "      <td>10</td>\n",
       "      <td>23.706132</td>\n",
       "    </tr>\n",
       "  </tbody>\n",
       "</table>\n",
       "</div>"
      ],
      "text/plain": [
       "    Size    SkLearn\n",
       "0      1   0.110263\n",
       "2      2   0.126359\n",
       "4      3   0.217357\n",
       "6      4   0.378548\n",
       "8      5   0.700354\n",
       "10     6   1.388288\n",
       "12     7   2.694753\n",
       "14     8   5.468835\n",
       "16     9  11.219578\n",
       "18    10  23.706132"
      ]
     },
     "execution_count": 64,
     "metadata": {},
     "output_type": "execute_result"
    }
   ],
   "source": [
    "new_df"
   ]
  },
  {
   "cell_type": "code",
   "execution_count": 65,
   "id": "83e9538a",
   "metadata": {},
   "outputs": [],
   "source": [
    "spark_df=performance_df[performance_df['Platform']=='Spark'][['Size','ExecutionTime']]"
   ]
  },
  {
   "cell_type": "code",
   "execution_count": 67,
   "id": "ceb1bb4e",
   "metadata": {},
   "outputs": [
    {
     "data": {
      "text/html": [
       "<div>\n",
       "<style scoped>\n",
       "    .dataframe tbody tr th:only-of-type {\n",
       "        vertical-align: middle;\n",
       "    }\n",
       "\n",
       "    .dataframe tbody tr th {\n",
       "        vertical-align: top;\n",
       "    }\n",
       "\n",
       "    .dataframe thead th {\n",
       "        text-align: right;\n",
       "    }\n",
       "</style>\n",
       "<table border=\"1\" class=\"dataframe\">\n",
       "  <thead>\n",
       "    <tr style=\"text-align: right;\">\n",
       "      <th></th>\n",
       "      <th>Size</th>\n",
       "      <th>ExecutionTime</th>\n",
       "    </tr>\n",
       "  </thead>\n",
       "  <tbody>\n",
       "    <tr>\n",
       "      <th>1</th>\n",
       "      <td>1</td>\n",
       "      <td>5.197456</td>\n",
       "    </tr>\n",
       "    <tr>\n",
       "      <th>3</th>\n",
       "      <td>2</td>\n",
       "      <td>1.664117</td>\n",
       "    </tr>\n",
       "    <tr>\n",
       "      <th>5</th>\n",
       "      <td>3</td>\n",
       "      <td>1.639954</td>\n",
       "    </tr>\n",
       "    <tr>\n",
       "      <th>7</th>\n",
       "      <td>4</td>\n",
       "      <td>1.661266</td>\n",
       "    </tr>\n",
       "    <tr>\n",
       "      <th>9</th>\n",
       "      <td>5</td>\n",
       "      <td>1.991977</td>\n",
       "    </tr>\n",
       "    <tr>\n",
       "      <th>11</th>\n",
       "      <td>6</td>\n",
       "      <td>2.140520</td>\n",
       "    </tr>\n",
       "    <tr>\n",
       "      <th>13</th>\n",
       "      <td>7</td>\n",
       "      <td>2.308474</td>\n",
       "    </tr>\n",
       "    <tr>\n",
       "      <th>15</th>\n",
       "      <td>8</td>\n",
       "      <td>3.224648</td>\n",
       "    </tr>\n",
       "    <tr>\n",
       "      <th>17</th>\n",
       "      <td>9</td>\n",
       "      <td>5.624002</td>\n",
       "    </tr>\n",
       "    <tr>\n",
       "      <th>19</th>\n",
       "      <td>10</td>\n",
       "      <td>7.079738</td>\n",
       "    </tr>\n",
       "  </tbody>\n",
       "</table>\n",
       "</div>"
      ],
      "text/plain": [
       "    Size  ExecutionTime\n",
       "1      1       5.197456\n",
       "3      2       1.664117\n",
       "5      3       1.639954\n",
       "7      4       1.661266\n",
       "9      5       1.991977\n",
       "11     6       2.140520\n",
       "13     7       2.308474\n",
       "15     8       3.224648\n",
       "17     9       5.624002\n",
       "19    10       7.079738"
      ]
     },
     "execution_count": 67,
     "metadata": {},
     "output_type": "execute_result"
    }
   ],
   "source": [
    "spark_df"
   ]
  },
  {
   "cell_type": "code",
   "execution_count": 68,
   "id": "c39b7624",
   "metadata": {},
   "outputs": [],
   "source": [
    "combine_df=new_df.merge(spark_df,on='Size')"
   ]
  },
  {
   "cell_type": "code",
   "execution_count": 69,
   "id": "9fc62360",
   "metadata": {},
   "outputs": [],
   "source": [
    "combine_df=combine_df.rename(columns={'ExecutionTime':'Spark'})"
   ]
  },
  {
   "cell_type": "code",
   "execution_count": 72,
   "id": "14e5afeb",
   "metadata": {},
   "outputs": [
    {
     "data": {
      "text/html": [
       "<style>\n",
       "/* Any CSS style can go in here. */\n",
       ".dataframe th {\n",
       "    font-size: 20px;\n",
       "}\n",
       ".dataframe td {\n",
       "    font-size: 18px;\n",
       "}\n",
       "</style>\n"
      ],
      "text/plain": [
       "<IPython.core.display.HTML object>"
      ]
     },
     "metadata": {},
     "output_type": "display_data"
    }
   ],
   "source": [
    "%%html\n",
    "<style>\n",
    "/* Any CSS style can go in here. */\n",
    ".dataframe th {\n",
    "    font-size: 20px;\n",
    "}\n",
    ".dataframe td {\n",
    "    font-size: 18px;\n",
    "}\n",
    "</style>"
   ]
  },
  {
   "cell_type": "code",
   "execution_count": 70,
   "id": "7bc125f4",
   "metadata": {},
   "outputs": [
    {
     "data": {
      "text/html": [
       "<div>\n",
       "<style scoped>\n",
       "    .dataframe tbody tr th:only-of-type {\n",
       "        vertical-align: middle;\n",
       "    }\n",
       "\n",
       "    .dataframe tbody tr th {\n",
       "        vertical-align: top;\n",
       "    }\n",
       "\n",
       "    .dataframe thead th {\n",
       "        text-align: right;\n",
       "    }\n",
       "</style>\n",
       "<table border=\"1\" class=\"dataframe\">\n",
       "  <thead>\n",
       "    <tr style=\"text-align: right;\">\n",
       "      <th></th>\n",
       "      <th>Size</th>\n",
       "      <th>SkLearn</th>\n",
       "      <th>Spark</th>\n",
       "    </tr>\n",
       "  </thead>\n",
       "  <tbody>\n",
       "    <tr>\n",
       "      <th>0</th>\n",
       "      <td>1</td>\n",
       "      <td>0.110263</td>\n",
       "      <td>5.197456</td>\n",
       "    </tr>\n",
       "    <tr>\n",
       "      <th>1</th>\n",
       "      <td>2</td>\n",
       "      <td>0.126359</td>\n",
       "      <td>1.664117</td>\n",
       "    </tr>\n",
       "    <tr>\n",
       "      <th>2</th>\n",
       "      <td>3</td>\n",
       "      <td>0.217357</td>\n",
       "      <td>1.639954</td>\n",
       "    </tr>\n",
       "    <tr>\n",
       "      <th>3</th>\n",
       "      <td>4</td>\n",
       "      <td>0.378548</td>\n",
       "      <td>1.661266</td>\n",
       "    </tr>\n",
       "    <tr>\n",
       "      <th>4</th>\n",
       "      <td>5</td>\n",
       "      <td>0.700354</td>\n",
       "      <td>1.991977</td>\n",
       "    </tr>\n",
       "    <tr>\n",
       "      <th>5</th>\n",
       "      <td>6</td>\n",
       "      <td>1.388288</td>\n",
       "      <td>2.140520</td>\n",
       "    </tr>\n",
       "    <tr>\n",
       "      <th>6</th>\n",
       "      <td>7</td>\n",
       "      <td>2.694753</td>\n",
       "      <td>2.308474</td>\n",
       "    </tr>\n",
       "    <tr>\n",
       "      <th>7</th>\n",
       "      <td>8</td>\n",
       "      <td>5.468835</td>\n",
       "      <td>3.224648</td>\n",
       "    </tr>\n",
       "    <tr>\n",
       "      <th>8</th>\n",
       "      <td>9</td>\n",
       "      <td>11.219578</td>\n",
       "      <td>5.624002</td>\n",
       "    </tr>\n",
       "    <tr>\n",
       "      <th>9</th>\n",
       "      <td>10</td>\n",
       "      <td>23.706132</td>\n",
       "      <td>7.079738</td>\n",
       "    </tr>\n",
       "  </tbody>\n",
       "</table>\n",
       "</div>"
      ],
      "text/plain": [
       "   Size    SkLearn     Spark\n",
       "0     1   0.110263  5.197456\n",
       "1     2   0.126359  1.664117\n",
       "2     3   0.217357  1.639954\n",
       "3     4   0.378548  1.661266\n",
       "4     5   0.700354  1.991977\n",
       "5     6   1.388288  2.140520\n",
       "6     7   2.694753  2.308474\n",
       "7     8   5.468835  3.224648\n",
       "8     9  11.219578  5.624002\n",
       "9    10  23.706132  7.079738"
      ]
     },
     "execution_count": 70,
     "metadata": {},
     "output_type": "execute_result"
    }
   ],
   "source": [
    "combine_df"
   ]
  },
  {
   "cell_type": "code",
   "execution_count": null,
   "id": "56e908ed",
   "metadata": {},
   "outputs": [],
   "source": []
  }
 ],
 "metadata": {
  "kernelspec": {
   "display_name": "Python 3 (ipykernel)",
   "language": "python",
   "name": "python3"
  },
  "language_info": {
   "codemirror_mode": {
    "name": "ipython",
    "version": 3
   },
   "file_extension": ".py",
   "mimetype": "text/x-python",
   "name": "python",
   "nbconvert_exporter": "python",
   "pygments_lexer": "ipython3",
   "version": "3.10.9"
  }
 },
 "nbformat": 4,
 "nbformat_minor": 5
}
